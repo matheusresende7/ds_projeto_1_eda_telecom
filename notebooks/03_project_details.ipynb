{
 "cells": [
  {
   "cell_type": "markdown",
   "metadata": {},
   "source": [
    "# 03. Project Details\n",
    "\n"
   ]
  },
  {
   "cell_type": "markdown",
   "metadata": {},
   "source": [
    "### Importando as bibliotecas"
   ]
  },
  {
   "cell_type": "code",
   "execution_count": 1,
   "metadata": {},
   "outputs": [],
   "source": [
    "import sys\n",
    "sys.path.append('..')\n",
    "import pandas as pd\n",
    "from ydata_profiling import ProfileReport\n",
    "import functions.fn_stats as fn_stats\n",
    "import params.consts as consts"
   ]
  },
  {
   "cell_type": "markdown",
   "metadata": {},
   "source": [
    "### Lendo o dataset"
   ]
  },
  {
   "cell_type": "code",
   "execution_count": 2,
   "metadata": {},
   "outputs": [
    {
     "data": {
      "text/html": [
       "<div>\n",
       "<style scoped>\n",
       "    .dataframe tbody tr th:only-of-type {\n",
       "        vertical-align: middle;\n",
       "    }\n",
       "\n",
       "    .dataframe tbody tr th {\n",
       "        vertical-align: top;\n",
       "    }\n",
       "\n",
       "    .dataframe thead th {\n",
       "        text-align: right;\n",
       "    }\n",
       "</style>\n",
       "<table border=\"1\" class=\"dataframe\">\n",
       "  <thead>\n",
       "    <tr style=\"text-align: right;\">\n",
       "      <th></th>\n",
       "      <th>CustomerID</th>\n",
       "      <th>idade</th>\n",
       "      <th>sexo</th>\n",
       "      <th>tempo_como_cliente</th>\n",
       "      <th>frequencia_uso</th>\n",
       "      <th>ligacoes_callcenter</th>\n",
       "      <th>dias_atraso</th>\n",
       "      <th>assinatura</th>\n",
       "      <th>duracao_contrato</th>\n",
       "      <th>total_gasto</th>\n",
       "      <th>meses_ultima_interacao</th>\n",
       "      <th>cancelou</th>\n",
       "    </tr>\n",
       "  </thead>\n",
       "  <tbody>\n",
       "    <tr>\n",
       "      <th>0</th>\n",
       "      <td>2.0</td>\n",
       "      <td>30.0</td>\n",
       "      <td>Female</td>\n",
       "      <td>39.0</td>\n",
       "      <td>14.0</td>\n",
       "      <td>5.0</td>\n",
       "      <td>18.0</td>\n",
       "      <td>Standard</td>\n",
       "      <td>Annual</td>\n",
       "      <td>932.0</td>\n",
       "      <td>17.0</td>\n",
       "      <td>1.0</td>\n",
       "    </tr>\n",
       "    <tr>\n",
       "      <th>1</th>\n",
       "      <td>3.0</td>\n",
       "      <td>65.0</td>\n",
       "      <td>Female</td>\n",
       "      <td>49.0</td>\n",
       "      <td>1.0</td>\n",
       "      <td>10.0</td>\n",
       "      <td>8.0</td>\n",
       "      <td>Basic</td>\n",
       "      <td>Monthly</td>\n",
       "      <td>557.0</td>\n",
       "      <td>6.0</td>\n",
       "      <td>1.0</td>\n",
       "    </tr>\n",
       "    <tr>\n",
       "      <th>2</th>\n",
       "      <td>4.0</td>\n",
       "      <td>55.0</td>\n",
       "      <td>Female</td>\n",
       "      <td>14.0</td>\n",
       "      <td>4.0</td>\n",
       "      <td>6.0</td>\n",
       "      <td>18.0</td>\n",
       "      <td>Basic</td>\n",
       "      <td>Quarterly</td>\n",
       "      <td>185.0</td>\n",
       "      <td>3.0</td>\n",
       "      <td>1.0</td>\n",
       "    </tr>\n",
       "  </tbody>\n",
       "</table>\n",
       "</div>"
      ],
      "text/plain": [
       "   CustomerID  idade    sexo  tempo_como_cliente  frequencia_uso  \\\n",
       "0         2.0   30.0  Female                39.0            14.0   \n",
       "1         3.0   65.0  Female                49.0             1.0   \n",
       "2         4.0   55.0  Female                14.0             4.0   \n",
       "\n",
       "   ligacoes_callcenter  dias_atraso assinatura duracao_contrato  total_gasto  \\\n",
       "0                  5.0         18.0   Standard           Annual        932.0   \n",
       "1                 10.0          8.0      Basic          Monthly        557.0   \n",
       "2                  6.0         18.0      Basic        Quarterly        185.0   \n",
       "\n",
       "   meses_ultima_interacao  cancelou  \n",
       "0                    17.0       1.0  \n",
       "1                     6.0       1.0  \n",
       "2                     3.0       1.0  "
      ]
     },
     "metadata": {},
     "output_type": "display_data"
    },
    {
     "data": {
      "text/html": [
       "<div>\n",
       "<style scoped>\n",
       "    .dataframe tbody tr th:only-of-type {\n",
       "        vertical-align: middle;\n",
       "    }\n",
       "\n",
       "    .dataframe tbody tr th {\n",
       "        vertical-align: top;\n",
       "    }\n",
       "\n",
       "    .dataframe thead th {\n",
       "        text-align: right;\n",
       "    }\n",
       "</style>\n",
       "<table border=\"1\" class=\"dataframe\">\n",
       "  <thead>\n",
       "    <tr style=\"text-align: right;\">\n",
       "      <th></th>\n",
       "      <th>CustomerID</th>\n",
       "      <th>idade</th>\n",
       "      <th>sexo</th>\n",
       "      <th>tempo_como_cliente</th>\n",
       "      <th>frequencia_uso</th>\n",
       "      <th>ligacoes_callcenter</th>\n",
       "      <th>dias_atraso</th>\n",
       "      <th>assinatura</th>\n",
       "      <th>duracao_contrato</th>\n",
       "      <th>total_gasto</th>\n",
       "      <th>meses_ultima_interacao</th>\n",
       "      <th>cancelou</th>\n",
       "    </tr>\n",
       "  </thead>\n",
       "  <tbody>\n",
       "    <tr>\n",
       "      <th>881663</th>\n",
       "      <td>449997.0</td>\n",
       "      <td>26.0</td>\n",
       "      <td>Male</td>\n",
       "      <td>35.0</td>\n",
       "      <td>27.0</td>\n",
       "      <td>1.0</td>\n",
       "      <td>5.0</td>\n",
       "      <td>Standard</td>\n",
       "      <td>Quarterly</td>\n",
       "      <td>977.31</td>\n",
       "      <td>9.0</td>\n",
       "      <td>0.0</td>\n",
       "    </tr>\n",
       "    <tr>\n",
       "      <th>881664</th>\n",
       "      <td>449998.0</td>\n",
       "      <td>28.0</td>\n",
       "      <td>Male</td>\n",
       "      <td>55.0</td>\n",
       "      <td>14.0</td>\n",
       "      <td>2.0</td>\n",
       "      <td>0.0</td>\n",
       "      <td>Standard</td>\n",
       "      <td>Quarterly</td>\n",
       "      <td>602.55</td>\n",
       "      <td>2.0</td>\n",
       "      <td>0.0</td>\n",
       "    </tr>\n",
       "    <tr>\n",
       "      <th>881665</th>\n",
       "      <td>449999.0</td>\n",
       "      <td>31.0</td>\n",
       "      <td>Male</td>\n",
       "      <td>48.0</td>\n",
       "      <td>20.0</td>\n",
       "      <td>1.0</td>\n",
       "      <td>14.0</td>\n",
       "      <td>Premium</td>\n",
       "      <td>Quarterly</td>\n",
       "      <td>567.77</td>\n",
       "      <td>21.0</td>\n",
       "      <td>0.0</td>\n",
       "    </tr>\n",
       "  </tbody>\n",
       "</table>\n",
       "</div>"
      ],
      "text/plain": [
       "        CustomerID  idade  sexo  tempo_como_cliente  frequencia_uso  \\\n",
       "881663    449997.0   26.0  Male                35.0            27.0   \n",
       "881664    449998.0   28.0  Male                55.0            14.0   \n",
       "881665    449999.0   31.0  Male                48.0            20.0   \n",
       "\n",
       "        ligacoes_callcenter  dias_atraso assinatura duracao_contrato  \\\n",
       "881663                  1.0          5.0   Standard        Quarterly   \n",
       "881664                  2.0          0.0   Standard        Quarterly   \n",
       "881665                  1.0         14.0    Premium        Quarterly   \n",
       "\n",
       "        total_gasto  meses_ultima_interacao  cancelou  \n",
       "881663       977.31                     9.0       0.0  \n",
       "881664       602.55                     2.0       0.0  \n",
       "881665       567.77                    21.0       0.0  "
      ]
     },
     "metadata": {},
     "output_type": "display_data"
    }
   ],
   "source": [
    "df = pd.read_csv(consts.DATASET_RAW) # Armazenando o dataset em uma variável\n",
    "\n",
    "display(df.head(3)) # Exibindo as 3 primeiras linhas do dataset\n",
    "\n",
    "display(df.tail(3)) # Exibindo as 3 últimas linhas do dataset"
   ]
  },
  {
   "cell_type": "markdown",
   "metadata": {},
   "source": [
    "### Visualizando os detalhes do dataset"
   ]
  },
  {
   "cell_type": "code",
   "execution_count": 3,
   "metadata": {},
   "outputs": [
    {
     "name": "stdout",
     "output_type": "stream",
     "text": [
      "<class 'pandas.core.frame.DataFrame'>\n",
      "RangeIndex: 881666 entries, 0 to 881665\n",
      "Data columns (total 12 columns):\n",
      " #   Column                  Non-Null Count   Dtype  \n",
      "---  ------                  --------------   -----  \n",
      " 0   CustomerID              881664 non-null  float64\n",
      " 1   idade                   881664 non-null  float64\n",
      " 2   sexo                    881664 non-null  object \n",
      " 3   tempo_como_cliente      881663 non-null  float64\n",
      " 4   frequencia_uso          881663 non-null  float64\n",
      " 5   ligacoes_callcenter     881664 non-null  float64\n",
      " 6   dias_atraso             881664 non-null  float64\n",
      " 7   assinatura              881661 non-null  object \n",
      " 8   duracao_contrato        881663 non-null  object \n",
      " 9   total_gasto             881664 non-null  float64\n",
      " 10  meses_ultima_interacao  881664 non-null  float64\n",
      " 11  cancelou                881664 non-null  float64\n",
      "dtypes: float64(9), object(3)\n",
      "memory usage: 80.7+ MB\n"
     ]
    }
   ],
   "source": [
    "df.info() # Exibindo as informações das variáveis do dataset"
   ]
  },
  {
   "cell_type": "markdown",
   "metadata": {},
   "source": [
    "### Visualizando as estatísticas das colunas numéricas"
   ]
  },
  {
   "cell_type": "code",
   "execution_count": 4,
   "metadata": {},
   "outputs": [
    {
     "data": {
      "text/html": [
       "<div>\n",
       "<style scoped>\n",
       "    .dataframe tbody tr th:only-of-type {\n",
       "        vertical-align: middle;\n",
       "    }\n",
       "\n",
       "    .dataframe tbody tr th {\n",
       "        vertical-align: top;\n",
       "    }\n",
       "\n",
       "    .dataframe thead th {\n",
       "        text-align: right;\n",
       "    }\n",
       "</style>\n",
       "<table border=\"1\" class=\"dataframe\">\n",
       "  <thead>\n",
       "    <tr style=\"text-align: right;\">\n",
       "      <th></th>\n",
       "      <th>CustomerID</th>\n",
       "      <th>idade</th>\n",
       "      <th>tempo_como_cliente</th>\n",
       "      <th>frequencia_uso</th>\n",
       "      <th>ligacoes_callcenter</th>\n",
       "      <th>dias_atraso</th>\n",
       "      <th>total_gasto</th>\n",
       "      <th>meses_ultima_interacao</th>\n",
       "      <th>cancelou</th>\n",
       "    </tr>\n",
       "  </thead>\n",
       "  <tbody>\n",
       "    <tr>\n",
       "      <th>count</th>\n",
       "      <td>881664.00</td>\n",
       "      <td>881664.00</td>\n",
       "      <td>881663.00</td>\n",
       "      <td>881663.00</td>\n",
       "      <td>881664.00</td>\n",
       "      <td>881664.00</td>\n",
       "      <td>881664.00</td>\n",
       "      <td>881664.00</td>\n",
       "      <td>881664.00</td>\n",
       "    </tr>\n",
       "    <tr>\n",
       "      <th>mean</th>\n",
       "      <td>225398.67</td>\n",
       "      <td>39.37</td>\n",
       "      <td>31.26</td>\n",
       "      <td>15.81</td>\n",
       "      <td>3.60</td>\n",
       "      <td>12.97</td>\n",
       "      <td>631.62</td>\n",
       "      <td>14.48</td>\n",
       "      <td>0.57</td>\n",
       "    </tr>\n",
       "    <tr>\n",
       "      <th>std</th>\n",
       "      <td>129531.85</td>\n",
       "      <td>12.44</td>\n",
       "      <td>17.26</td>\n",
       "      <td>8.59</td>\n",
       "      <td>3.07</td>\n",
       "      <td>8.26</td>\n",
       "      <td>240.80</td>\n",
       "      <td>8.60</td>\n",
       "      <td>0.50</td>\n",
       "    </tr>\n",
       "    <tr>\n",
       "      <th>min</th>\n",
       "      <td>2.00</td>\n",
       "      <td>18.00</td>\n",
       "      <td>1.00</td>\n",
       "      <td>1.00</td>\n",
       "      <td>0.00</td>\n",
       "      <td>0.00</td>\n",
       "      <td>100.00</td>\n",
       "      <td>1.00</td>\n",
       "      <td>0.00</td>\n",
       "    </tr>\n",
       "    <tr>\n",
       "      <th>25%</th>\n",
       "      <td>113621.75</td>\n",
       "      <td>29.00</td>\n",
       "      <td>16.00</td>\n",
       "      <td>9.00</td>\n",
       "      <td>1.00</td>\n",
       "      <td>6.00</td>\n",
       "      <td>480.00</td>\n",
       "      <td>7.00</td>\n",
       "      <td>0.00</td>\n",
       "    </tr>\n",
       "    <tr>\n",
       "      <th>50%</th>\n",
       "      <td>226125.50</td>\n",
       "      <td>39.00</td>\n",
       "      <td>32.00</td>\n",
       "      <td>16.00</td>\n",
       "      <td>3.00</td>\n",
       "      <td>12.00</td>\n",
       "      <td>661.00</td>\n",
       "      <td>14.00</td>\n",
       "      <td>1.00</td>\n",
       "    </tr>\n",
       "    <tr>\n",
       "      <th>75%</th>\n",
       "      <td>337739.25</td>\n",
       "      <td>48.00</td>\n",
       "      <td>46.00</td>\n",
       "      <td>23.00</td>\n",
       "      <td>6.00</td>\n",
       "      <td>19.00</td>\n",
       "      <td>830.00</td>\n",
       "      <td>22.00</td>\n",
       "      <td>1.00</td>\n",
       "    </tr>\n",
       "    <tr>\n",
       "      <th>max</th>\n",
       "      <td>449999.00</td>\n",
       "      <td>65.00</td>\n",
       "      <td>60.00</td>\n",
       "      <td>30.00</td>\n",
       "      <td>10.00</td>\n",
       "      <td>30.00</td>\n",
       "      <td>1000.00</td>\n",
       "      <td>30.00</td>\n",
       "      <td>1.00</td>\n",
       "    </tr>\n",
       "  </tbody>\n",
       "</table>\n",
       "</div>"
      ],
      "text/plain": [
       "       CustomerID     idade  tempo_como_cliente  frequencia_uso  \\\n",
       "count   881664.00 881664.00           881663.00       881663.00   \n",
       "mean    225398.67     39.37               31.26           15.81   \n",
       "std     129531.85     12.44               17.26            8.59   \n",
       "min          2.00     18.00                1.00            1.00   \n",
       "25%     113621.75     29.00               16.00            9.00   \n",
       "50%     226125.50     39.00               32.00           16.00   \n",
       "75%     337739.25     48.00               46.00           23.00   \n",
       "max     449999.00     65.00               60.00           30.00   \n",
       "\n",
       "       ligacoes_callcenter  dias_atraso  total_gasto  meses_ultima_interacao  \\\n",
       "count            881664.00    881664.00    881664.00               881664.00   \n",
       "mean                  3.60        12.97       631.62                   14.48   \n",
       "std                   3.07         8.26       240.80                    8.60   \n",
       "min                   0.00         0.00       100.00                    1.00   \n",
       "25%                   1.00         6.00       480.00                    7.00   \n",
       "50%                   3.00        12.00       661.00                   14.00   \n",
       "75%                   6.00        19.00       830.00                   22.00   \n",
       "max                  10.00        30.00      1000.00                   30.00   \n",
       "\n",
       "       cancelou  \n",
       "count 881664.00  \n",
       "mean       0.57  \n",
       "std        0.50  \n",
       "min        0.00  \n",
       "25%        0.00  \n",
       "50%        1.00  \n",
       "75%        1.00  \n",
       "max        1.00  "
      ]
     },
     "metadata": {},
     "output_type": "display_data"
    }
   ],
   "source": [
    "fn_stats.describe(df) # Usando a função que exibe as estatísticas das colunas numéricas"
   ]
  },
  {
   "cell_type": "markdown",
   "metadata": {},
   "source": [
    "### Visualizando as estatísticas da colunas categóricas"
   ]
  },
  {
   "cell_type": "code",
   "execution_count": 5,
   "metadata": {},
   "outputs": [
    {
     "data": {
      "text/html": [
       "<div>\n",
       "<style scoped>\n",
       "    .dataframe tbody tr th:only-of-type {\n",
       "        vertical-align: middle;\n",
       "    }\n",
       "\n",
       "    .dataframe tbody tr th {\n",
       "        vertical-align: top;\n",
       "    }\n",
       "\n",
       "    .dataframe thead th {\n",
       "        text-align: right;\n",
       "    }\n",
       "</style>\n",
       "<table border=\"1\" class=\"dataframe\">\n",
       "  <thead>\n",
       "    <tr style=\"text-align: right;\">\n",
       "      <th></th>\n",
       "      <th>sexo</th>\n",
       "      <th>assinatura</th>\n",
       "      <th>duracao_contrato</th>\n",
       "    </tr>\n",
       "  </thead>\n",
       "  <tbody>\n",
       "    <tr>\n",
       "      <th>count</th>\n",
       "      <td>881664</td>\n",
       "      <td>881661</td>\n",
       "      <td>881663</td>\n",
       "    </tr>\n",
       "    <tr>\n",
       "      <th>unique</th>\n",
       "      <td>2</td>\n",
       "      <td>3</td>\n",
       "      <td>3</td>\n",
       "    </tr>\n",
       "    <tr>\n",
       "      <th>top</th>\n",
       "      <td>Male</td>\n",
       "      <td>Standard</td>\n",
       "      <td>Annual</td>\n",
       "    </tr>\n",
       "    <tr>\n",
       "      <th>freq</th>\n",
       "      <td>500504</td>\n",
       "      <td>298255</td>\n",
       "      <td>354396</td>\n",
       "    </tr>\n",
       "  </tbody>\n",
       "</table>\n",
       "</div>"
      ],
      "text/plain": [
       "          sexo assinatura duracao_contrato\n",
       "count   881664     881661           881663\n",
       "unique       2          3                3\n",
       "top       Male   Standard           Annual\n",
       "freq    500504     298255           354396"
      ]
     },
     "execution_count": 5,
     "metadata": {},
     "output_type": "execute_result"
    }
   ],
   "source": [
    "df.describe(exclude='number') # Exibindo as estatísticas das colunas categóricas"
   ]
  },
  {
   "cell_type": "markdown",
   "metadata": {},
   "source": [
    "### Verificando as colunas com valores nulos"
   ]
  },
  {
   "cell_type": "code",
   "execution_count": 6,
   "metadata": {},
   "outputs": [
    {
     "data": {
      "text/plain": [
       "CustomerID                2\n",
       "idade                     2\n",
       "sexo                      2\n",
       "tempo_como_cliente        3\n",
       "frequencia_uso            3\n",
       "ligacoes_callcenter       2\n",
       "dias_atraso               2\n",
       "assinatura                5\n",
       "duracao_contrato          3\n",
       "total_gasto               2\n",
       "meses_ultima_interacao    2\n",
       "cancelou                  2\n",
       "dtype: int64"
      ]
     },
     "execution_count": 6,
     "metadata": {},
     "output_type": "execute_result"
    }
   ],
   "source": [
    "df.isnull().sum() # Somando todos os valores nulos de cada coluna"
   ]
  },
  {
   "cell_type": "markdown",
   "metadata": {},
   "source": [
    "### Gerando o relatório Profile Report"
   ]
  },
  {
   "cell_type": "code",
   "execution_count": 7,
   "metadata": {},
   "outputs": [
    {
     "data": {
      "application/vnd.jupyter.widget-view+json": {
       "model_id": "fc644a03129546b1af83beccd76753e6",
       "version_major": 2,
       "version_minor": 0
      },
      "text/plain": [
       "Summarize dataset:   0%|          | 0/5 [00:00<?, ?it/s]"
      ]
     },
     "metadata": {},
     "output_type": "display_data"
    },
    {
     "data": {
      "application/vnd.jupyter.widget-view+json": {
       "model_id": "2d24a19cffce46d68c33dabc07fef4fa",
       "version_major": 2,
       "version_minor": 0
      },
      "text/plain": [
       "Generate report structure:   0%|          | 0/1 [00:00<?, ?it/s]"
      ]
     },
     "metadata": {},
     "output_type": "display_data"
    },
    {
     "data": {
      "application/vnd.jupyter.widget-view+json": {
       "model_id": "8caebabf853840b69816e020a7496d2a",
       "version_major": 2,
       "version_minor": 0
      },
      "text/plain": [
       "Render HTML:   0%|          | 0/1 [00:00<?, ?it/s]"
      ]
     },
     "metadata": {},
     "output_type": "display_data"
    },
    {
     "data": {
      "application/vnd.jupyter.widget-view+json": {
       "model_id": "1b7945025fcd48649e4b859ee0edcc68",
       "version_major": 2,
       "version_minor": 0
      },
      "text/plain": [
       "Export report to file:   0%|          | 0/1 [00:00<?, ?it/s]"
      ]
     },
     "metadata": {},
     "output_type": "display_data"
    }
   ],
   "source": [
    "profile = ProfileReport(df) # Armazenando em uma variável o ProfileReport\n",
    "\n",
    "profile.to_file(consts.EDA_0) # Salvando o profile report na pasta reports em formato html"
   ]
  },
  {
   "cell_type": "markdown",
   "metadata": {},
   "source": [
    "### Conclusões obtidas no relatório e as próximas ações para tratar o dataset\n",
    "\n",
    "- **Colunas que devem ter o tipo de dados corrigido** \n",
    "    1. N/A\n",
    "- **Colunas que devem ter valores nulos/vazios tratados** \n",
    "    1. CustomerID\n",
    "    2. idade\n",
    "    3. sexo\n",
    "    4. tempo_como_cliente\n",
    "    5. frequencia_de_uso\n",
    "    6. ligacoes_callcenter\n",
    "    7. dias_atraso\n",
    "    8. assinatura\n",
    "    9. duracao_contrato\n",
    "    10. total_gasto\n",
    "    11. meses_ultima_interacao\n",
    "    12. cancelou\n",
    "- **Colunas que devem ser convertidas de data para tempo/idade** \n",
    "    1. N/A\n",
    "- **Colunas que devem ter categorias mescladas** \n",
    "    1. N/A\n",
    "- **Colunas que devem ser unificadas**\n",
    "    1. N/A\n",
    "- **Colunas que devem ser derivadas de outras**\n",
    "    1. N/A\n",
    "- **Colunas que devem ter valores outliers tratados** \n",
    "    1. N/A\n",
    "- **Colunas que devem ser excluídas por valores únicos** \n",
    "    1. CustomerID\n",
    "- **Colunas que devem ser excluídas por valores constantes** \n",
    "    1. N/A\n",
    "- **Colunas que devem ser excluídas após serem utilizadas como apoio** \n",
    "    1. N/A"
   ]
  }
 ],
 "metadata": {
  "kernelspec": {
   "display_name": "Python 3",
   "language": "python",
   "name": "python3"
  },
  "language_info": {
   "codemirror_mode": {
    "name": "ipython",
    "version": 3
   },
   "file_extension": ".py",
   "mimetype": "text/x-python",
   "name": "python",
   "nbconvert_exporter": "python",
   "pygments_lexer": "ipython3",
   "version": "3.12.4"
  }
 },
 "nbformat": 4,
 "nbformat_minor": 2
}
